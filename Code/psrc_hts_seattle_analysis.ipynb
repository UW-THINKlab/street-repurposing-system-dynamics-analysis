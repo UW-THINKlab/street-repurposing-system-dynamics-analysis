{
 "cells": [
  {
   "cell_type": "markdown",
   "metadata": {},
   "source": [
    "# HTS Trip Generation Breakdown by Purpose & Mode\n",
    "\n",
    "Notes:\n",
    "- Rideshare only made up 1.5% of all trips in 2019."
   ]
  },
  {
   "cell_type": "code",
   "execution_count": 1,
   "metadata": {},
   "outputs": [],
   "source": [
    "import pandas as pd\n",
    "import numpy as np\n",
    "import matplotlib.pyplot as plt\n",
    "import seaborn as sns"
   ]
  },
  {
   "cell_type": "code",
   "execution_count": null,
   "metadata": {},
   "outputs": [
    {
     "name": "stderr",
     "output_type": "stream",
     "text": [
      "C:\\Users\\jerem\\AppData\\Local\\Temp\\ipykernel_16396\\741663829.py:1: DtypeWarning: Columns (5,8,25,31,32,33,34,35,36,37,38,39,40,41,42,43,44,45,46,47,52,68,69,73,75,76,79,86,87,88,89,90,91,92,93,94,95,96,100,101,102,103,104,105,106,107,108,109,110,111,112,113,114,115,130,131,132,133,134,135,136,137,138,139,140,142,154) have mixed types. Specify dtype option on import or set low_memory=False.\n",
      "  trips = pd.read_csv('Household_Travel_Survey_Trips.csv')\n"
     ]
    }
   ],
   "source": [
    "# read in PSRC 2019 HTS Trips data\n",
    "trips = pd.read_csv('Household_Travel_Survey_Trips.csv')"
   ]
  },
  {
   "cell_type": "code",
   "execution_count": 3,
   "metadata": {},
   "outputs": [],
   "source": [
    "# only 2019 trips\n",
    "trips_19 = trips[trips['survey_year'] == 2019]"
   ]
  },
  {
   "cell_type": "code",
   "execution_count": 4,
   "metadata": {},
   "outputs": [
    {
     "data": {
      "text/plain": [
       "travelers_total\n",
       " 1       36996\n",
       " 2       19702\n",
       " 3        8160\n",
       " 4        3485\n",
       " 5        1334\n",
       " 6        1227\n",
       "-9998      974\n",
       "-9997      388\n",
       " 7         335\n",
       " 8         102\n",
       " 9          95\n",
       " 995        56\n",
       " 0           1\n",
       "Name: count, dtype: int64"
      ]
     },
     "execution_count": 4,
     "metadata": {},
     "output_type": "execute_result"
    }
   ],
   "source": [
    "# check how many trips have traveller counts that need to be filtered out\n",
    "trips_19['travelers_total'].value_counts()"
   ]
  },
  {
   "cell_type": "code",
   "execution_count": 5,
   "metadata": {},
   "outputs": [
    {
     "name": "stdout",
     "output_type": "stream",
     "text": [
      "Unfiltered trip count:  72855\n",
      "Filtered trip count:  71436\n",
      "Number of trips filtered out:  1419\n",
      "Percentage of trips filtered out:  1.947704344245419\n",
      "Unfiltered trip weight:  16728883.892847704\n",
      "Filtered trip weight:  16672695.352424972\n",
      "Amount of trip weight filtered out:  56188.54042273201\n",
      "Percentage of trip weight filtered out:  0.33587740092305235\n"
     ]
    }
   ],
   "source": [
    "# sum the trips for each unique traveler count\n",
    "unfiltered_trip_counts = trips_19['travelers_total'].value_counts()\n",
    "total_unfiltered_trip_count = unfiltered_trip_counts.sum()\n",
    "total_filtered_trip_count = total_unfiltered_trip_count - unfiltered_trip_counts[-9998] - unfiltered_trip_counts[-9997] - unfiltered_trip_counts[0] - unfiltered_trip_counts[995]\n",
    "\n",
    "# print unfiltered and filtered trip counts, and percentage of trips that are filtered out\n",
    "print('Unfiltered trip count: ', total_unfiltered_trip_count)\n",
    "print('Filtered trip count: ', total_filtered_trip_count)\n",
    "print('Number of trips filtered out: ', total_unfiltered_trip_count - total_filtered_trip_count)\n",
    "print('Percentage of trips filtered out: ', 100 * (total_unfiltered_trip_count - total_filtered_trip_count) / total_unfiltered_trip_count)\n",
    "\n",
    "\n",
    "# sum the trips_weight for each unique traveler count\n",
    "unfiltered_trip_weights = trips_19.groupby('travelers_total')['trip_weight_2019'].sum()\n",
    "total_unfiltered_trip_weight = unfiltered_trip_weights.sum()\n",
    "total_filtered_trip_weight = total_unfiltered_trip_weight - unfiltered_trip_weights[-9998] - unfiltered_trip_weights[-9997] - unfiltered_trip_weights[0] - unfiltered_trip_weights[995]\n",
    "\n",
    "# print unfiltered and filtered trip weights, and percentage of trips that are filtered out\n",
    "print('Unfiltered trip weight: ', total_unfiltered_trip_weight)\n",
    "print('Filtered trip weight: ', total_filtered_trip_weight)\n",
    "print('Amount of trip weight filtered out: ', total_unfiltered_trip_weight - total_filtered_trip_weight)\n",
    "print('Percentage of trip weight filtered out: ', 100 * (total_unfiltered_trip_weight - total_filtered_trip_weight) / total_unfiltered_trip_weight)"
   ]
  },
  {
   "cell_type": "markdown",
   "metadata": {},
   "source": [
    "From the unweighted trip counts, there are 1,419 trips filtered out from a total of 72,855 trips in 2019 (this is 1.95%).\n",
    "\n",
    "As weighted trip counts, this represents 56,188 trips filtered out from a total f 16,728,884 trips in 2019 (this is 0.34%)."
   ]
  },
  {
   "cell_type": "code",
   "execution_count": 6,
   "metadata": {},
   "outputs": [
    {
     "data": {
      "text/plain": [
       "travelers_total\n",
       "1    36996\n",
       "2    19702\n",
       "3     8160\n",
       "4     3485\n",
       "5     1334\n",
       "6     1227\n",
       "7      335\n",
       "8      102\n",
       "9       95\n",
       "Name: count, dtype: int64"
      ]
     },
     "execution_count": 6,
     "metadata": {},
     "output_type": "execute_result"
    }
   ],
   "source": [
    "# discard trips with invalid traveller counts (-9998, -9997, 0, or 995)\n",
    "trips_19 = trips_19[(trips_19['travelers_total'] > 0) & (trips_19['travelers_total'] < 100)]\n",
    "trips_19['travelers_total'].value_counts()"
   ]
  },
  {
   "cell_type": "code",
   "execution_count": 7,
   "metadata": {},
   "outputs": [],
   "source": [
    "# create purpose and mode categories\n",
    "modes = {'Drive':'Drive', 'Transit':'Transit', 'Bike':'NMT', 'Walk':'NMT', 'Other':'Other'}\n",
    "trips_19['overall_mode'] = trips_19['mode_simple'].map(modes)\n",
    "\n",
    "purposes = {'Change mode':'Other', 'Errand/Other':'Errand', 'Escort':'Errand', 'Home':'Home', 'Meal':'Commercial', 'Missing: Non-response':'Other', 'School':'School/Work', \n",
    "\t\t\t'Shop':'Commercial', 'Social/Recreation':'Social', 'Work':'School/Work', 'Work-related':'School/Work'}\n",
    "trips_19['overall_purpose'] = trips_19['dest_purpose_cat'].map(purposes)"
   ]
  },
  {
   "cell_type": "code",
   "execution_count": 10,
   "metadata": {},
   "outputs": [
    {
     "name": "stdout",
     "output_type": "stream",
     "text": [
      "Median drive trip distance for trips starting and ending in Seattle:  2.1796550000000003\n",
      "Median drive trip distance for trips starting and ending not in Seattle:  4.33793\n"
     ]
    }
   ],
   "source": [
    "# find median drive trip distance for trips starting and ending in Seattle\n",
    "drive_trips_seattle = trips_19_seattle[trips_19_seattle['overall_mode'] == 'Drive']\n",
    "median_drive_distance_seattle = drive_trips_seattle['trip_path_distance'].median()\n",
    "\n",
    "# find median drive trip distance for trips starting and ending not in Seattle\n",
    "drive_trips_not_seattle = trips_19_not_seattle[trips_19_not_seattle['overall_mode'] == 'Drive']\n",
    "median_drive_distance_not_seattle = drive_trips_not_seattle['trip_path_distance'].median()\n",
    "\n",
    "print('Median drive trip distance for trips starting and ending in Seattle: ', median_drive_distance_seattle)\n",
    "print('Median drive trip distance for trips starting and ending not in Seattle: ', median_drive_distance_not_seattle)\n"
   ]
  },
  {
   "cell_type": "code",
   "execution_count": 11,
   "metadata": {},
   "outputs": [
    {
     "name": "stdout",
     "output_type": "stream",
     "text": [
      "The number of unweighted trips in Seattle in 2019 is: 35738\n"
     ]
    }
   ],
   "source": [
    "# filter for trips made with origin and destination in Seattle PUMAs\n",
    "# Seattle PUMAs from this site: https://www.census.gov/geographies/reference-maps/2010/geo/2010-pumas/washington.html\n",
    "seattle_puma10 = [11601, 11602, 11603, 11604, 11605]\n",
    "trips_19 = trips_19[(trips_19['o_puma10'].isin(seattle_puma10)) & (trips_19['d_puma10'].isin(seattle_puma10))]\n",
    "\n",
    "# filter out trips greater than 50 miles in distance\n",
    "trips_19 = trips_19[trips_19['trip_path_distance'] <= 50]\n",
    "print('The number of unweighted trips in Seattle in 2019 is:', trips_19.shape[0])"
   ]
  },
  {
   "cell_type": "code",
   "execution_count": 12,
   "metadata": {},
   "outputs": [
    {
     "name": "stdout",
     "output_type": "stream",
     "text": [
      "The weighted number of person trips in Seattle in 2019 is: 2694389\n"
     ]
    }
   ],
   "source": [
    "# calculate the weighted number of person-trips in Seattle in 2019\n",
    "weighted_person_trip_count = trips_19['trip_weight_2019'].sum()\n",
    "print('The weighted number of person trips in Seattle in 2019 is:', int(weighted_person_trip_count))"
   ]
  },
  {
   "cell_type": "code",
   "execution_count": 13,
   "metadata": {},
   "outputs": [
    {
     "name": "stdout",
     "output_type": "stream",
     "text": [
      "The weighted average number of travellers per trip in Seattle in 2019 is: 1.6364100943736124\n"
     ]
    }
   ],
   "source": [
    "# calculate the average number of travellers per trip, weighted by the 2019 trip weights\n",
    "weighted_avg_travelers_per_trip = (trips_19['travelers_total'] * trips_19['trip_weight_2019']).sum() / weighted_person_trip_count\n",
    "print('The weighted average number of travellers per trip in Seattle in 2019 is:', weighted_avg_travelers_per_trip)"
   ]
  },
  {
   "cell_type": "code",
   "execution_count": 14,
   "metadata": {},
   "outputs": [
    {
     "name": "stdout",
     "output_type": "stream",
     "text": [
      "The weighted number of \"vehicle\" trips in Seattle in 2019 is: 1646524\n"
     ]
    }
   ],
   "source": [
    "# calculate the \"vehicle\"-trips in Seattle in 2019 by dividing the weighted number of person-trips by the weighted average number of travellers per trip\n",
    "weighted_vehicle_trip_count = weighted_person_trip_count / weighted_avg_travelers_per_trip\n",
    "print('The weighted number of \"vehicle\" trips in Seattle in 2019 is:', int(weighted_vehicle_trip_count))\n"
   ]
  },
  {
   "cell_type": "markdown",
   "metadata": {},
   "source": [
    "The number of weighted PSRC HTS person-trips on a typical weekday in 2019 in Seattle is 2,694,389.\n",
    "\n",
    "This weighted number of person-trips is converted into a typical weekly number of person-trips using the proportions in this Mori and Kockelman (2024) article: https://findingspress.org/article/118815-day-of-week-month-and-seasonal-demand-variations-comparing-flow-estimates-across-new-travel-data-sources\n",
    "\n",
    "From the article, assuming that day-of-week proportions follow the NHTS 2016/2017 values, and averaging the Mon-Thu percentages, a typical weekday contains 14.55% of the weekly number of person-trips. Therefore, our weighted PSRC HTS person-trips on a typical week in 2019 in Seattle is 2,694,389 $\\div$ 0.1455 = 18,518,137 trips per week.\n",
    "\n",
    "Compare this to the previous methodology (prior to speaking with Suzanne Childress at PSRC), we had assumed that the 2,701,943 trips was for 4 weekdays (Mon-Thu), which when divided by 4 to get a single weekday, then multiplied by 7 to get an entire week, yielded 7,431,496 weekly trips."
   ]
  },
  {
   "cell_type": "code",
   "execution_count": null,
   "metadata": {},
   "outputs": [
    {
     "data": {
      "text/html": [
       "<div>\n",
       "<style scoped>\n",
       "    .dataframe tbody tr th:only-of-type {\n",
       "        vertical-align: middle;\n",
       "    }\n",
       "\n",
       "    .dataframe tbody tr th {\n",
       "        vertical-align: top;\n",
       "    }\n",
       "\n",
       "    .dataframe thead th {\n",
       "        text-align: right;\n",
       "    }\n",
       "</style>\n",
       "<table border=\"1\" class=\"dataframe\">\n",
       "  <thead>\n",
       "    <tr style=\"text-align: right;\">\n",
       "      <th></th>\n",
       "      <th>trip_weight_2019</th>\n",
       "      <th>overall_mode</th>\n",
       "    </tr>\n",
       "    <tr>\n",
       "      <th>overall_mode</th>\n",
       "      <th></th>\n",
       "      <th></th>\n",
       "    </tr>\n",
       "  </thead>\n",
       "  <tbody>\n",
       "    <tr>\n",
       "      <th>Drive</th>\n",
       "      <td>1.422697e+06</td>\n",
       "      <td>0.531688</td>\n",
       "    </tr>\n",
       "    <tr>\n",
       "      <th>NMT</th>\n",
       "      <td>8.956783e+05</td>\n",
       "      <td>0.334731</td>\n",
       "    </tr>\n",
       "    <tr>\n",
       "      <th>Other</th>\n",
       "      <td>3.791570e+04</td>\n",
       "      <td>0.014170</td>\n",
       "    </tr>\n",
       "    <tr>\n",
       "      <th>Transit</th>\n",
       "      <td>3.195227e+05</td>\n",
       "      <td>0.119411</td>\n",
       "    </tr>\n",
       "  </tbody>\n",
       "</table>\n",
       "</div>"
      ],
      "text/plain": [
       "              trip_weight_2019  overall_mode\n",
       "overall_mode                                \n",
       "Drive             1.422697e+06      0.531688\n",
       "NMT               8.956783e+05      0.334731\n",
       "Other             3.791570e+04      0.014170\n",
       "Transit           3.195227e+05      0.119411"
      ]
     },
     "execution_count": 16,
     "metadata": {},
     "output_type": "execute_result"
    }
   ],
   "source": [
    "# overall mode split\n",
    "mode_split = trips_19[['overall_mode', 'trip_weight_2019']].groupby('overall_mode').sum()\n",
    "# normalize\n",
    "mode_split['overall_mode'] = mode_split['trip_weight_2019'] / mode_split['trip_weight_2019'].sum()\n",
    "mode_split"
   ]
  },
  {
   "cell_type": "code",
   "execution_count": 17,
   "metadata": {},
   "outputs": [
    {
     "data": {
      "text/html": [
       "<div>\n",
       "<style scoped>\n",
       "    .dataframe tbody tr th:only-of-type {\n",
       "        vertical-align: middle;\n",
       "    }\n",
       "\n",
       "    .dataframe tbody tr th {\n",
       "        vertical-align: top;\n",
       "    }\n",
       "\n",
       "    .dataframe thead th {\n",
       "        text-align: right;\n",
       "    }\n",
       "</style>\n",
       "<table border=\"1\" class=\"dataframe\">\n",
       "  <thead>\n",
       "    <tr style=\"text-align: right;\">\n",
       "      <th></th>\n",
       "      <th>trip_weight_2019</th>\n",
       "      <th>mode_simple</th>\n",
       "    </tr>\n",
       "    <tr>\n",
       "      <th>mode_simple</th>\n",
       "      <th></th>\n",
       "      <th></th>\n",
       "    </tr>\n",
       "  </thead>\n",
       "  <tbody>\n",
       "    <tr>\n",
       "      <th>Bike</th>\n",
       "      <td>5.801047e+04</td>\n",
       "      <td>0.021680</td>\n",
       "    </tr>\n",
       "    <tr>\n",
       "      <th>Drive</th>\n",
       "      <td>1.422697e+06</td>\n",
       "      <td>0.531688</td>\n",
       "    </tr>\n",
       "    <tr>\n",
       "      <th>Other</th>\n",
       "      <td>3.791570e+04</td>\n",
       "      <td>0.014170</td>\n",
       "    </tr>\n",
       "    <tr>\n",
       "      <th>Transit</th>\n",
       "      <td>3.195227e+05</td>\n",
       "      <td>0.119411</td>\n",
       "    </tr>\n",
       "    <tr>\n",
       "      <th>Walk</th>\n",
       "      <td>8.376678e+05</td>\n",
       "      <td>0.313052</td>\n",
       "    </tr>\n",
       "  </tbody>\n",
       "</table>\n",
       "</div>"
      ],
      "text/plain": [
       "             trip_weight_2019  mode_simple\n",
       "mode_simple                               \n",
       "Bike             5.801047e+04     0.021680\n",
       "Drive            1.422697e+06     0.531688\n",
       "Other            3.791570e+04     0.014170\n",
       "Transit          3.195227e+05     0.119411\n",
       "Walk             8.376678e+05     0.313052"
      ]
     },
     "execution_count": 17,
     "metadata": {},
     "output_type": "execute_result"
    }
   ],
   "source": [
    "# mode_simple split\n",
    "mode_simple_split = trips_19[['mode_simple', 'trip_weight_2019']].groupby('mode_simple').sum()\n",
    "# normalize\n",
    "mode_simple_split['mode_simple'] = mode_simple_split['trip_weight_2019'] / mode_simple_split['trip_weight_2019'].sum()\n",
    "mode_simple_split"
   ]
  },
  {
   "cell_type": "code",
   "execution_count": 18,
   "metadata": {},
   "outputs": [
    {
     "data": {
      "text/html": [
       "<div>\n",
       "<style scoped>\n",
       "    .dataframe tbody tr th:only-of-type {\n",
       "        vertical-align: middle;\n",
       "    }\n",
       "\n",
       "    .dataframe tbody tr th {\n",
       "        vertical-align: top;\n",
       "    }\n",
       "\n",
       "    .dataframe thead th {\n",
       "        text-align: right;\n",
       "    }\n",
       "</style>\n",
       "<table border=\"1\" class=\"dataframe\">\n",
       "  <thead>\n",
       "    <tr style=\"text-align: right;\">\n",
       "      <th></th>\n",
       "      <th>trip_weight_2019</th>\n",
       "      <th>purpose_split</th>\n",
       "    </tr>\n",
       "    <tr>\n",
       "      <th>overall_purpose</th>\n",
       "      <th></th>\n",
       "      <th></th>\n",
       "    </tr>\n",
       "  </thead>\n",
       "  <tbody>\n",
       "    <tr>\n",
       "      <th>Commercial</th>\n",
       "      <td>421757.414822</td>\n",
       "      <td>0.156532</td>\n",
       "    </tr>\n",
       "    <tr>\n",
       "      <th>Errand</th>\n",
       "      <td>524879.173148</td>\n",
       "      <td>0.194804</td>\n",
       "    </tr>\n",
       "    <tr>\n",
       "      <th>Home</th>\n",
       "      <td>850478.716718</td>\n",
       "      <td>0.315648</td>\n",
       "    </tr>\n",
       "    <tr>\n",
       "      <th>Other</th>\n",
       "      <td>4792.119796</td>\n",
       "      <td>0.001779</td>\n",
       "    </tr>\n",
       "    <tr>\n",
       "      <th>School/Work</th>\n",
       "      <td>546257.627391</td>\n",
       "      <td>0.202739</td>\n",
       "    </tr>\n",
       "    <tr>\n",
       "      <th>Social</th>\n",
       "      <td>346224.708017</td>\n",
       "      <td>0.128498</td>\n",
       "    </tr>\n",
       "  </tbody>\n",
       "</table>\n",
       "</div>"
      ],
      "text/plain": [
       "                 trip_weight_2019  purpose_split\n",
       "overall_purpose                                 \n",
       "Commercial          421757.414822       0.156532\n",
       "Errand              524879.173148       0.194804\n",
       "Home                850478.716718       0.315648\n",
       "Other                 4792.119796       0.001779\n",
       "School/Work         546257.627391       0.202739\n",
       "Social              346224.708017       0.128498"
      ]
     },
     "execution_count": 18,
     "metadata": {},
     "output_type": "execute_result"
    }
   ],
   "source": [
    "# overall purpose split\n",
    "purpose_split = trips_19[['overall_purpose', 'trip_weight_2019']].groupby('overall_purpose').sum()\n",
    "# normalize\n",
    "purpose_split['purpose_split'] = purpose_split['trip_weight_2019'] / purpose_split['trip_weight_2019'].sum()\n",
    "purpose_split"
   ]
  },
  {
   "cell_type": "code",
   "execution_count": 19,
   "metadata": {},
   "outputs": [
    {
     "data": {
      "text/html": [
       "<div>\n",
       "<style scoped>\n",
       "    .dataframe tbody tr th:only-of-type {\n",
       "        vertical-align: middle;\n",
       "    }\n",
       "\n",
       "    .dataframe tbody tr th {\n",
       "        vertical-align: top;\n",
       "    }\n",
       "\n",
       "    .dataframe thead th {\n",
       "        text-align: right;\n",
       "    }\n",
       "</style>\n",
       "<table border=\"1\" class=\"dataframe\">\n",
       "  <thead>\n",
       "    <tr style=\"text-align: right;\">\n",
       "      <th></th>\n",
       "      <th></th>\n",
       "      <th>trip_weight_2019</th>\n",
       "      <th>mode_purpose_split</th>\n",
       "    </tr>\n",
       "    <tr>\n",
       "      <th>overall_mode</th>\n",
       "      <th>overall_purpose</th>\n",
       "      <th></th>\n",
       "      <th></th>\n",
       "    </tr>\n",
       "  </thead>\n",
       "  <tbody>\n",
       "    <tr>\n",
       "      <th rowspan=\"6\" valign=\"top\">Drive</th>\n",
       "      <th>Commercial</th>\n",
       "      <td>209922.254515</td>\n",
       "      <td>7.85</td>\n",
       "    </tr>\n",
       "    <tr>\n",
       "      <th>Errand</th>\n",
       "      <td>374476.130030</td>\n",
       "      <td>13.99</td>\n",
       "    </tr>\n",
       "    <tr>\n",
       "      <th>Home</th>\n",
       "      <td>454256.482665</td>\n",
       "      <td>16.98</td>\n",
       "    </tr>\n",
       "    <tr>\n",
       "      <th>Other</th>\n",
       "      <td>234.972134</td>\n",
       "      <td>0.01</td>\n",
       "    </tr>\n",
       "    <tr>\n",
       "      <th>School/Work</th>\n",
       "      <td>227866.154869</td>\n",
       "      <td>8.52</td>\n",
       "    </tr>\n",
       "    <tr>\n",
       "      <th>Social</th>\n",
       "      <td>155940.776297</td>\n",
       "      <td>5.83</td>\n",
       "    </tr>\n",
       "    <tr>\n",
       "      <th rowspan=\"6\" valign=\"top\">NMT</th>\n",
       "      <th>Commercial</th>\n",
       "      <td>167214.466398</td>\n",
       "      <td>6.25</td>\n",
       "    </tr>\n",
       "    <tr>\n",
       "      <th>Errand</th>\n",
       "      <td>89527.856447</td>\n",
       "      <td>3.35</td>\n",
       "    </tr>\n",
       "    <tr>\n",
       "      <th>Home</th>\n",
       "      <td>262734.076341</td>\n",
       "      <td>9.82</td>\n",
       "    </tr>\n",
       "    <tr>\n",
       "      <th>Other</th>\n",
       "      <td>537.386822</td>\n",
       "      <td>0.02</td>\n",
       "    </tr>\n",
       "    <tr>\n",
       "      <th>School/Work</th>\n",
       "      <td>206444.356520</td>\n",
       "      <td>7.72</td>\n",
       "    </tr>\n",
       "    <tr>\n",
       "      <th>Social</th>\n",
       "      <td>169220.110665</td>\n",
       "      <td>6.32</td>\n",
       "    </tr>\n",
       "    <tr>\n",
       "      <th rowspan=\"6\" valign=\"top\">Other</th>\n",
       "      <th>Commercial</th>\n",
       "      <td>1695.578941</td>\n",
       "      <td>0.06</td>\n",
       "    </tr>\n",
       "    <tr>\n",
       "      <th>Errand</th>\n",
       "      <td>5667.707310</td>\n",
       "      <td>0.21</td>\n",
       "    </tr>\n",
       "    <tr>\n",
       "      <th>Home</th>\n",
       "      <td>16592.301949</td>\n",
       "      <td>0.62</td>\n",
       "    </tr>\n",
       "    <tr>\n",
       "      <th>Other</th>\n",
       "      <td>50.408907</td>\n",
       "      <td>0.00</td>\n",
       "    </tr>\n",
       "    <tr>\n",
       "      <th>School/Work</th>\n",
       "      <td>10613.572824</td>\n",
       "      <td>0.40</td>\n",
       "    </tr>\n",
       "    <tr>\n",
       "      <th>Social</th>\n",
       "      <td>3296.128703</td>\n",
       "      <td>0.12</td>\n",
       "    </tr>\n",
       "    <tr>\n",
       "      <th rowspan=\"6\" valign=\"top\">Transit</th>\n",
       "      <th>Commercial</th>\n",
       "      <td>41402.821390</td>\n",
       "      <td>1.55</td>\n",
       "    </tr>\n",
       "    <tr>\n",
       "      <th>Errand</th>\n",
       "      <td>51125.645877</td>\n",
       "      <td>1.91</td>\n",
       "    </tr>\n",
       "    <tr>\n",
       "      <th>Home</th>\n",
       "      <td>109079.164430</td>\n",
       "      <td>4.08</td>\n",
       "    </tr>\n",
       "    <tr>\n",
       "      <th>Other</th>\n",
       "      <td>3936.437590</td>\n",
       "      <td>0.15</td>\n",
       "    </tr>\n",
       "    <tr>\n",
       "      <th>School/Work</th>\n",
       "      <td>97544.061315</td>\n",
       "      <td>3.65</td>\n",
       "    </tr>\n",
       "    <tr>\n",
       "      <th>Social</th>\n",
       "      <td>16434.520333</td>\n",
       "      <td>0.61</td>\n",
       "    </tr>\n",
       "  </tbody>\n",
       "</table>\n",
       "</div>"
      ],
      "text/plain": [
       "                              trip_weight_2019  mode_purpose_split\n",
       "overall_mode overall_purpose                                      \n",
       "Drive        Commercial          209922.254515                7.85\n",
       "             Errand              374476.130030               13.99\n",
       "             Home                454256.482665               16.98\n",
       "             Other                  234.972134                0.01\n",
       "             School/Work         227866.154869                8.52\n",
       "             Social              155940.776297                5.83\n",
       "NMT          Commercial          167214.466398                6.25\n",
       "             Errand               89527.856447                3.35\n",
       "             Home                262734.076341                9.82\n",
       "             Other                  537.386822                0.02\n",
       "             School/Work         206444.356520                7.72\n",
       "             Social              169220.110665                6.32\n",
       "Other        Commercial            1695.578941                0.06\n",
       "             Errand                5667.707310                0.21\n",
       "             Home                 16592.301949                0.62\n",
       "             Other                   50.408907                0.00\n",
       "             School/Work          10613.572824                0.40\n",
       "             Social                3296.128703                0.12\n",
       "Transit      Commercial           41402.821390                1.55\n",
       "             Errand               51125.645877                1.91\n",
       "             Home                109079.164430                4.08\n",
       "             Other                 3936.437590                0.15\n",
       "             School/Work          97544.061315                3.65\n",
       "             Social               16434.520333                0.61"
      ]
     },
     "execution_count": 19,
     "metadata": {},
     "output_type": "execute_result"
    }
   ],
   "source": [
    "# normalize\n",
    "mode_purpose_split = trips_19[['overall_mode', 'overall_purpose','trip_weight_2019']].groupby(['overall_mode', 'overall_purpose']).sum()\n",
    "mode_purpose_split['mode_purpose_split'] = np.round(mode_purpose_split['trip_weight_2019'] / mode_purpose_split['trip_weight_2019'].sum()*100, 2)\n",
    "mode_purpose_split"
   ]
  },
  {
   "cell_type": "code",
   "execution_count": 20,
   "metadata": {},
   "outputs": [
    {
     "data": {
      "text/html": [
       "<div>\n",
       "<style scoped>\n",
       "    .dataframe tbody tr th:only-of-type {\n",
       "        vertical-align: middle;\n",
       "    }\n",
       "\n",
       "    .dataframe tbody tr th {\n",
       "        vertical-align: top;\n",
       "    }\n",
       "\n",
       "    .dataframe thead th {\n",
       "        text-align: right;\n",
       "    }\n",
       "</style>\n",
       "<table border=\"1\" class=\"dataframe\">\n",
       "  <thead>\n",
       "    <tr style=\"text-align: right;\">\n",
       "      <th></th>\n",
       "      <th>overall_mode</th>\n",
       "      <th>overall_purpose</th>\n",
       "      <th>trip_weight_2019</th>\n",
       "      <th>mode_purpose_split</th>\n",
       "    </tr>\n",
       "  </thead>\n",
       "  <tbody>\n",
       "    <tr>\n",
       "      <th>0</th>\n",
       "      <td>Drive</td>\n",
       "      <td>Commercial</td>\n",
       "      <td>209922.254515</td>\n",
       "      <td>7.85</td>\n",
       "    </tr>\n",
       "    <tr>\n",
       "      <th>1</th>\n",
       "      <td>Drive</td>\n",
       "      <td>Errand</td>\n",
       "      <td>374476.130030</td>\n",
       "      <td>13.99</td>\n",
       "    </tr>\n",
       "    <tr>\n",
       "      <th>2</th>\n",
       "      <td>Drive</td>\n",
       "      <td>Home</td>\n",
       "      <td>454256.482665</td>\n",
       "      <td>16.98</td>\n",
       "    </tr>\n",
       "    <tr>\n",
       "      <th>3</th>\n",
       "      <td>Drive</td>\n",
       "      <td>Other</td>\n",
       "      <td>234.972134</td>\n",
       "      <td>0.01</td>\n",
       "    </tr>\n",
       "    <tr>\n",
       "      <th>4</th>\n",
       "      <td>Drive</td>\n",
       "      <td>School/Work</td>\n",
       "      <td>227866.154869</td>\n",
       "      <td>8.52</td>\n",
       "    </tr>\n",
       "    <tr>\n",
       "      <th>5</th>\n",
       "      <td>Drive</td>\n",
       "      <td>Social</td>\n",
       "      <td>155940.776297</td>\n",
       "      <td>5.83</td>\n",
       "    </tr>\n",
       "    <tr>\n",
       "      <th>6</th>\n",
       "      <td>NMT</td>\n",
       "      <td>Commercial</td>\n",
       "      <td>167214.466398</td>\n",
       "      <td>6.25</td>\n",
       "    </tr>\n",
       "    <tr>\n",
       "      <th>7</th>\n",
       "      <td>NMT</td>\n",
       "      <td>Errand</td>\n",
       "      <td>89527.856447</td>\n",
       "      <td>3.35</td>\n",
       "    </tr>\n",
       "    <tr>\n",
       "      <th>8</th>\n",
       "      <td>NMT</td>\n",
       "      <td>Home</td>\n",
       "      <td>262734.076341</td>\n",
       "      <td>9.82</td>\n",
       "    </tr>\n",
       "    <tr>\n",
       "      <th>9</th>\n",
       "      <td>NMT</td>\n",
       "      <td>Other</td>\n",
       "      <td>537.386822</td>\n",
       "      <td>0.02</td>\n",
       "    </tr>\n",
       "    <tr>\n",
       "      <th>10</th>\n",
       "      <td>NMT</td>\n",
       "      <td>School/Work</td>\n",
       "      <td>206444.356520</td>\n",
       "      <td>7.72</td>\n",
       "    </tr>\n",
       "    <tr>\n",
       "      <th>11</th>\n",
       "      <td>NMT</td>\n",
       "      <td>Social</td>\n",
       "      <td>169220.110665</td>\n",
       "      <td>6.32</td>\n",
       "    </tr>\n",
       "    <tr>\n",
       "      <th>18</th>\n",
       "      <td>Transit</td>\n",
       "      <td>Commercial</td>\n",
       "      <td>41402.821390</td>\n",
       "      <td>1.55</td>\n",
       "    </tr>\n",
       "    <tr>\n",
       "      <th>19</th>\n",
       "      <td>Transit</td>\n",
       "      <td>Errand</td>\n",
       "      <td>51125.645877</td>\n",
       "      <td>1.91</td>\n",
       "    </tr>\n",
       "    <tr>\n",
       "      <th>20</th>\n",
       "      <td>Transit</td>\n",
       "      <td>Home</td>\n",
       "      <td>109079.164430</td>\n",
       "      <td>4.08</td>\n",
       "    </tr>\n",
       "    <tr>\n",
       "      <th>21</th>\n",
       "      <td>Transit</td>\n",
       "      <td>Other</td>\n",
       "      <td>3936.437590</td>\n",
       "      <td>0.15</td>\n",
       "    </tr>\n",
       "    <tr>\n",
       "      <th>22</th>\n",
       "      <td>Transit</td>\n",
       "      <td>School/Work</td>\n",
       "      <td>97544.061315</td>\n",
       "      <td>3.65</td>\n",
       "    </tr>\n",
       "    <tr>\n",
       "      <th>23</th>\n",
       "      <td>Transit</td>\n",
       "      <td>Social</td>\n",
       "      <td>16434.520333</td>\n",
       "      <td>0.61</td>\n",
       "    </tr>\n",
       "  </tbody>\n",
       "</table>\n",
       "</div>"
      ],
      "text/plain": [
       "   overall_mode overall_purpose  trip_weight_2019  mode_purpose_split\n",
       "0         Drive      Commercial     209922.254515                7.85\n",
       "1         Drive          Errand     374476.130030               13.99\n",
       "2         Drive            Home     454256.482665               16.98\n",
       "3         Drive           Other        234.972134                0.01\n",
       "4         Drive     School/Work     227866.154869                8.52\n",
       "5         Drive          Social     155940.776297                5.83\n",
       "6           NMT      Commercial     167214.466398                6.25\n",
       "7           NMT          Errand      89527.856447                3.35\n",
       "8           NMT            Home     262734.076341                9.82\n",
       "9           NMT           Other        537.386822                0.02\n",
       "10          NMT     School/Work     206444.356520                7.72\n",
       "11          NMT          Social     169220.110665                6.32\n",
       "18      Transit      Commercial      41402.821390                1.55\n",
       "19      Transit          Errand      51125.645877                1.91\n",
       "20      Transit            Home     109079.164430                4.08\n",
       "21      Transit           Other       3936.437590                0.15\n",
       "22      Transit     School/Work      97544.061315                3.65\n",
       "23      Transit          Social      16434.520333                0.61"
      ]
     },
     "execution_count": 20,
     "metadata": {},
     "output_type": "execute_result"
    }
   ],
   "source": [
    "# show mode_purpose_split for all overall_modes except other\n",
    "mode_purpose_split = mode_purpose_split.reset_index()\n",
    "mode_purpose_split = mode_purpose_split[mode_purpose_split['overall_mode'] != 'Other']\n",
    "mode_purpose_split"
   ]
  },
  {
   "cell_type": "markdown",
   "metadata": {},
   "source": [
    "### Calculate the number of drive mode vehicle-trips"
   ]
  },
  {
   "cell_type": "code",
   "execution_count": 21,
   "metadata": {},
   "outputs": [
    {
     "name": "stdout",
     "output_type": "stream",
     "text": [
      "The weighted number of drive mode person-trips in Seattle in 2019 is: 1422696\n",
      "The weighted average number of travellers per drive mode trip in Seattle in 2019 is: 1.6667800599724367\n",
      "The weighted number of vehicle-trips for drive mode trips in Seattle in 2019 is: 853559\n"
     ]
    }
   ],
   "source": [
    "# filter out drive trips only\n",
    "drive_trips_19 = trips_19[trips_19['overall_mode'] == 'Drive']\n",
    "\n",
    "# calculate the weighted number of person-trips in Seattle in 2019 for drive trips\n",
    "weighted_person_trip_count_drive = drive_trips_19['trip_weight_2019'].sum()\n",
    "\n",
    "# calculate the average number of travellers per trip for drive trips, weighted by the 2019 trip weights\n",
    "weighted_avg_travelers_per_trip_drive = (drive_trips_19['travelers_total'] * drive_trips_19['trip_weight_2019']).sum() / weighted_person_trip_count_drive\n",
    "\n",
    "# calculate the \"vehicle\"-trips in Seattle in 2019 for drive trips by dividing the weighted number of person-trips by the weighted average number of travellers per trip\n",
    "weighted_vehicle_trip_count_drive = weighted_person_trip_count_drive / weighted_avg_travelers_per_trip_drive\n",
    "\n",
    "# print results\n",
    "print('The weighted number of drive mode person-trips in Seattle in 2019 is:', int(weighted_person_trip_count_drive))\n",
    "print('The weighted average number of travellers per drive mode trip in Seattle in 2019 is:', weighted_avg_travelers_per_trip_drive)\n",
    "print('The weighted number of vehicle-trips for drive mode trips in Seattle in 2019 is:', int(weighted_vehicle_trip_count_drive))\n"
   ]
  },
  {
   "cell_type": "markdown",
   "metadata": {},
   "source": [
    "The weighted number of vehicle-trips for the drive mode in Seattle in 2019 on a typical weekday is 853,559 trips.\n",
    "\n",
    "Converting using the Mori and Kockelman (2024) method (which is dividing by 0.1455), we get a weighted number of vehicle-trips for the drive mode in Seattle on a typical week to be 5,866,384 trips.\n",
    "\n",
    "The following two code cells perform the same calculations as the cell above, except for transit and NMT trips. These calculations are for reference only, since the conversion from person-trips to vehicle-trips is only relevant for drive mode trips."
   ]
  },
  {
   "cell_type": "code",
   "execution_count": 22,
   "metadata": {},
   "outputs": [
    {
     "name": "stdout",
     "output_type": "stream",
     "text": [
      "The weighted number of transit mode person-trips in Seattle in 2019 is: 319522\n",
      "The weighted average number of travellers per transit mode trip in Seattle in 2019 is: 1.3125428553489238\n",
      "The weighted number of vehicle-trips for transit mode trips in Seattle in 2019 is: 243437\n"
     ]
    }
   ],
   "source": [
    "# filter out transit trips only\n",
    "transit_trips_19 = trips_19[trips_19['overall_mode'] == 'Transit']\n",
    "\n",
    "# calculate the weighted number of person-trips in Seattle in 2019 for transit trips\n",
    "weighted_person_trip_count_transit = transit_trips_19['trip_weight_2019'].sum()\n",
    "\n",
    "# calculate the average number of travellers per trip for transit trips, weighted by the 2019 trip weights\n",
    "weighted_avg_travelers_per_trip_transit = (transit_trips_19['travelers_total'] * transit_trips_19['trip_weight_2019']).sum() / weighted_person_trip_count_transit\n",
    "\n",
    "# calculate the \"vehicle\"-trips in Seattle in 2019 for transit trips by dividing the weighted number of person-trips by the weighted average number of travellers per trip\n",
    "weighted_vehicle_trip_count_transit = weighted_person_trip_count_transit / weighted_avg_travelers_per_trip_transit\n",
    "\n",
    "# print results\n",
    "print('The weighted number of transit mode person-trips in Seattle in 2019 is:', int(weighted_person_trip_count_transit))\n",
    "print('The weighted average number of travellers per transit mode trip in Seattle in 2019 is:', weighted_avg_travelers_per_trip_transit)\n",
    "print('The weighted number of vehicle-trips for transit mode trips in Seattle in 2019 is:', int(weighted_vehicle_trip_count_transit))"
   ]
  },
  {
   "cell_type": "code",
   "execution_count": 23,
   "metadata": {},
   "outputs": [
    {
     "name": "stdout",
     "output_type": "stream",
     "text": [
      "The weighted number of NMT mode person-trips in Seattle in 2019 is: 895678\n",
      "The weighted average number of travellers per NMT mode trip in Seattle in 2019 is: 1.6884498551475382\n",
      "The weighted number of vehicle-trips for NMT mode trips in Seattle in 2019 is: 530473\n"
     ]
    }
   ],
   "source": [
    "# filter out NMT trips only\n",
    "nmt_trips_19 = trips_19[trips_19['overall_mode'] == 'NMT']\n",
    "\n",
    "# calculate the weighted number of person-trips in Seattle in 2019 for NMT trips\n",
    "weighted_person_trip_count_nmt = nmt_trips_19['trip_weight_2019'].sum()\n",
    "\n",
    "# calculate the average number of travellers per trip for NMT trips, weighted by the 2019 trip weights\n",
    "weighted_avg_travelers_per_trip_nmt = (nmt_trips_19['travelers_total'] * nmt_trips_19['trip_weight_2019']).sum() / weighted_person_trip_count_nmt\n",
    "\n",
    "# calculate the \"vehicle\"-trips in Seattle in 2019 for NMT trips by dividing the weighted number of person-trips by the weighted average number of travellers per trip\n",
    "weighted_vehicle_trip_count_nmt = weighted_person_trip_count_nmt / weighted_avg_travelers_per_trip_nmt\n",
    "\n",
    "# print results\n",
    "print('The weighted number of NMT mode person-trips in Seattle in 2019 is:', int(weighted_person_trip_count_nmt))\n",
    "print('The weighted average number of travellers per NMT mode trip in Seattle in 2019 is:', weighted_avg_travelers_per_trip_nmt)\n",
    "print('The weighted number of vehicle-trips for NMT mode trips in Seattle in 2019 is:', int(weighted_vehicle_trip_count_nmt))"
   ]
  },
  {
   "cell_type": "markdown",
   "metadata": {},
   "source": [
    "### Calculate average and median VMT of each mode-purpose split"
   ]
  },
  {
   "cell_type": "code",
   "execution_count": 24,
   "metadata": {},
   "outputs": [
    {
     "data": {
      "text/plain": [
       "2.16694"
      ]
     },
     "execution_count": 24,
     "metadata": {},
     "output_type": "execute_result"
    }
   ],
   "source": [
    "# calculate total trip_path_distance of all drive trips for home purpose\n",
    "drive_home = trips_19[(trips_19['overall_mode'] == 'Drive') & (trips_19['overall_purpose'] == 'Home')]\n",
    "drive_home['trip_path_distance'].sum()\n",
    "\n",
    "# calculate average trip_path_distance of all drive trips for home purpose\n",
    "drive_home['trip_path_distance'].mean()\n",
    "\n",
    "# calculate median trip_path_distnce of all drive trips for home purpose\n",
    "drive_home['trip_path_distance'].median()"
   ]
  },
  {
   "cell_type": "code",
   "execution_count": 25,
   "metadata": {},
   "outputs": [
    {
     "name": "stdout",
     "output_type": "stream",
     "text": [
      "Drive Home avg: 3.037913292516877 med: 2.16694\n",
      "Drive School/Work avg: 3.572464657557292 med: 2.7424999999999997\n",
      "Drive Commercial avg: 2.552525084317471 med: 1.7757\n",
      "Drive Social avg: 3.5424877567901634 med: 2.64385\n",
      "Drive Errand avg: 2.9867142026808 med: 2.00391\n",
      "Transit Home avg: 3.8964311646013576 med: 3.42\n",
      "Transit School/Work avg: 4.147093937577141 med: 3.61265\n",
      "Transit Commercial avg: 3.1034148089147124 med: 2.182125\n",
      "Transit Social avg: 3.6044199809533226 med: 2.95514\n",
      "Transit Errand avg: 3.2814451418506314 med: 2.48971\n",
      "NMT Home avg: 0.6702242023590412 med: 0.41468\n",
      "NMT School/Work avg: 0.7173510021056606 med: 0.4010221475\n",
      "NMT Commercial avg: 0.45625702897339554 med: 0.304785\n",
      "NMT Social avg: 0.7319000994229863 med: 0.4292336805\n",
      "NMT Errand avg: 0.5529922823946101 med: 0.351055\n"
     ]
    }
   ],
   "source": [
    "# iterate across all modes and purposes to calculate average and median trip_path_distance\n",
    "dist_trips = []\n",
    "for mode in ['Drive', 'Transit', 'NMT']:\n",
    "    for purpose in ['Home', 'School/Work', 'Commercial', 'Social', 'Errand']:\n",
    "        dist_19 = trips_19[(trips_19['overall_mode'] == mode) & (trips_19['overall_purpose'] == purpose)]\n",
    "        dist_avg = dist_19['trip_path_distance'].mean()\n",
    "        dist_med = dist_19['trip_path_distance'].median()\n",
    "        dist_trips.append([mode, purpose, dist_avg, dist_med])\n",
    "        \n",
    "        print(f'{mode} {purpose} avg: {dist_avg} med: {dist_med}')"
   ]
  },
  {
   "cell_type": "code",
   "execution_count": 26,
   "metadata": {},
   "outputs": [],
   "source": [
    "dist_trips = pd.DataFrame(dist_trips, columns=['mode', 'purpose', 'avg_dist', 'med_dist'])"
   ]
  },
  {
   "cell_type": "code",
   "execution_count": 27,
   "metadata": {},
   "outputs": [
    {
     "data": {
      "image/png": "[encoded data removed]",
      "text/plain": [
       "<Figure size 1200x600 with 2 Axes>"
      ]
     },
     "metadata": {},
     "output_type": "display_data"
    }
   ],
   "source": [
    "# plot average and median trip distances from dist_trips\n",
    "# set color scheme\n",
    "sns.set_palette(\"tab20\")\n",
    "\n",
    "fig, ax = plt.subplots(1, 2, figsize=(12, 6))\n",
    "sns.barplot(data=dist_trips, x='mode', y='avg_dist', hue='purpose', ax=ax[0])\n",
    "sns.barplot(data=dist_trips, x='mode', y='med_dist', hue='purpose', ax=ax[1])\n",
    "\n",
    "# set both subplots to have same y-limits\n",
    "for a in ax:\n",
    "    a.set_ylim(0, 5)\n",
    "\n",
    "ax.flat[0].set_title('Average Trip Distance')\n",
    "ax.flat[1].set_title('Median Trip Distance')\n",
    "\n",
    "# set y-labels\n",
    "ax.flat[0].set_ylabel('Miles', size=12)\n",
    "ax.flat[1].set_ylabel('Miles', size=12)\n",
    "ax.flat[0].set_xlabel('Mode', size=12)\n",
    "ax.flat[1].set_xlabel('Mode', size=12)\n",
    "\n",
    "# set legend title\n",
    "ax.flat[0].legend(title='Trip Purpose')\n",
    "ax.flat[1].legend(title='Trip Purpose')\n",
    "\n",
    "# set plot title\n",
    "fig.suptitle('PSRC 2019 HTS Trip Distances by Mode and Purpose', size=16)\n",
    "\n",
    "plt.show()\n"
   ]
  },
  {
   "cell_type": "code",
   "execution_count": 28,
   "metadata": {},
   "outputs": [
    {
     "data": {
      "image/png": "[encoded data removed]",
      "text/plain": [
       "<Figure size 1200x600 with 2 Axes>"
      ]
     },
     "metadata": {},
     "output_type": "display_data"
    }
   ],
   "source": [
    "# create grouped bar plot of dist_trips, grouped by average or median\n",
    "fig, ax = plt.subplots(1, 2, figsize=(12, 6))\n",
    "dist_trips.pivot(index='mode', columns='purpose', values='avg_dist').plot(kind='bar', ax=ax[0])\n",
    "dist_trips.pivot(index='mode', columns='purpose', values='med_dist').plot(kind='bar', ax=ax[1])\n",
    "plt.show()"
   ]
  },
  {
   "cell_type": "markdown",
   "metadata": {},
   "source": [
    "##### Plot distribution of drive mode trip distances for each purpose"
   ]
  },
  {
   "cell_type": "code",
   "execution_count": 29,
   "metadata": {},
   "outputs": [
    {
     "data": {
      "image/png": "[encoded data removed]",
      "text/plain": [
       "<Figure size 1200x800 with 6 Axes>"
      ]
     },
     "metadata": {},
     "output_type": "display_data"
    }
   ],
   "source": [
    "# set parameters for histograms\n",
    "num_bins = 50\n",
    "max_dist = 30\n",
    "\n",
    "# Define a list of colors for each plot\n",
    "colors = ['blue', 'orange', 'green', 'red', 'purple', 'grey']\n",
    "\n",
    "# Create tiled histograms\n",
    "fig, ax = plt.subplots(2, 3, figsize=(12, 8))\n",
    "fig.suptitle('Drive Trip Distances by Purpose in 2019 PSRC HTS', size=16)\n",
    "\n",
    "for i, purpose in enumerate(['Home', 'School/Work', 'Commercial', 'Social', 'Errand', 'Other']):\n",
    "    # Filter data for the current purpose and 'Drive' mode\n",
    "    drive_purpose = trips_19[(trips_19['overall_mode'] == 'Drive') & (trips_19['overall_purpose'] == purpose)]\n",
    "    \n",
    "    # Plot histogram with a specific color from the colors list\n",
    "    ax.flat[i].hist(\n",
    "        drive_purpose[drive_purpose['trip_path_distance'] < max_dist]['trip_path_distance'], \n",
    "        bins=num_bins, \n",
    "        color=colors[i]\n",
    "    )\n",
    "    \n",
    "    # Set titles and labels\n",
    "    ax.flat[i].set_title(f'{purpose} Trip; Median Dist.: {drive_purpose[\"trip_path_distance\"].median():.2f} mi')\n",
    "    ax.flat[i].set_xlabel('Miles')\n",
    "    ax.flat[i].set_ylabel('Frequency')\n",
    "\n",
    "plt.tight_layout(rect=[0, 0, 1, 0.95])  # Adjust layout to fit title\n",
    "plt.show()\n"
   ]
  },
  {
   "cell_type": "markdown",
   "metadata": {},
   "source": [
    "### Sanity check to calculate PSRC drive VMT"
   ]
  },
  {
   "cell_type": "code",
   "execution_count": 30,
   "metadata": {},
   "outputs": [
    {
     "name": "stdout",
     "output_type": "stream",
     "text": [
      "The weighted number of vehicle-trips for drive mode trips in Seattle in 2019 is: 853559\n",
      "The weighted average of median drive trip distance in Seattle in 2019 is: 2.2105764268612154\n",
      "The typical weekday drive mode VMT in Seattle is: 1886859 miles\n",
      "The typical weekly drive mode VMT in Seattle is: 12968107 miles\n",
      "The typical annual drive mode VMT in Seattle is: 674341572 miles\n"
     ]
    }
   ],
   "source": [
    "# calculate the weighted number of vehicle-trips for drive mode trips in Seattle in 2019\n",
    "weighted_vehicle_trip_count_drive = weighted_person_trip_count_drive / weighted_avg_travelers_per_trip_drive\n",
    "\n",
    "# calculate the weighted average of median drive trip distance, weighted by purpose share\n",
    "drive_purpose_split = drive_trips_19[['overall_purpose', 'trip_weight_2019']].groupby('overall_purpose').sum()\n",
    "drive_purpose_split['purpose_split'] = drive_purpose_split['trip_weight_2019'] / drive_purpose_split['trip_weight_2019'].sum()\n",
    "drive_purpose_split['med_dist'] = drive_trips_19.groupby('overall_purpose')['trip_path_distance'].median()\n",
    "weighted_med_dist = (drive_purpose_split['purpose_split'] * drive_purpose_split['med_dist']).sum()\n",
    "\n",
    "# print results\n",
    "print('The weighted number of vehicle-trips for drive mode trips in Seattle in 2019 is:', int(weighted_vehicle_trip_count_drive))\n",
    "print('The weighted average of median drive trip distance in Seattle in 2019 is:', weighted_med_dist)\n",
    "print('The typical weekday drive mode VMT in Seattle is:', int(weighted_vehicle_trip_count_drive * weighted_med_dist), 'miles')\n",
    "print('The typical weekly drive mode VMT in Seattle is:', int(weighted_vehicle_trip_count_drive * weighted_med_dist / 0.1455), 'miles')\n",
    "print('The typical annual drive mode VMT in Seattle is:', int(weighted_vehicle_trip_count_drive * weighted_med_dist / 0.1455 * 52), 'miles')"
   ]
  },
  {
   "cell_type": "code",
   "execution_count": 33,
   "metadata": {},
   "outputs": [
    {
     "data": {
      "text/plain": [
       "overall_purpose\n",
       "Commercial     1.486582\n",
       "Errand         1.974900\n",
       "Home           1.694055\n",
       "Other          2.069023\n",
       "School/Work    1.350315\n",
       "Social         1.551812\n",
       "dtype: float64"
      ]
     },
     "execution_count": 33,
     "metadata": {},
     "output_type": "execute_result"
    }
   ],
   "source": [
    "# calculate mean number of passengers on drive trips, weighted by trip_weight, sorted by trip purpose\n",
    "travelers_per_drive_trip = drive_trips_19[['overall_purpose', 'travelers_total', 'trip_weight_2019']].groupby('overall_purpose').apply(lambda x: (x['travelers_total'] * x['trip_weight_2019']).sum() / x['trip_weight_2019'].sum())\n",
    "travelers_per_drive_trip"
   ]
  }
 ],
 "metadata": {
  "kernelspec": {
   "display_name": "base",
   "language": "python",
   "name": "python3"
  },
  "language_info": {
   "codemirror_mode": {
    "name": "ipython",
    "version": 3
   },
   "file_extension": ".py",
   "mimetype": "text/x-python",
   "name": "python",
   "nbconvert_exporter": "python",
   "pygments_lexer": "ipython3",
   "version": "3.11.8"
  }
 },
 "nbformat": 4,
 "nbformat_minor": 2
}
